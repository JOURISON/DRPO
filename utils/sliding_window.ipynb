{
 "cells": [
  {
   "cell_type": "code",
   "execution_count": 13,
   "id": "817be0d8-d7fb-4544-8266-7e74fdc8ae83",
   "metadata": {},
   "outputs": [],
   "source": [
    "import numpy as np"
   ]
  },
  {
   "cell_type": "code",
   "execution_count": 14,
   "id": "3a61d2b8",
   "metadata": {},
   "outputs": [],
   "source": [
    "train_data_path = '/root/DRPO/data/coin.npz'\n",
    "sequence_length = 140\n",
    "stride = 5"
   ]
  },
  {
   "cell_type": "code",
   "execution_count": 15,
   "id": "674f7895",
   "metadata": {},
   "outputs": [
    {
     "data": {
      "text/plain": [
       "(1030534, 3, 43)"
      ]
     },
     "execution_count": 15,
     "metadata": {},
     "output_type": "execute_result"
    }
   ],
   "source": [
    "dataset_npz = np.load(train_data_path,allow_pickle=True)\n",
    "input_data = dataset_npz[\"input_data\"]\n",
    "total_length,stocks_num,features = input_data.shape\n",
    "buy_price = dataset_npz[\"buy_price\"]\n",
    "sell_price = dataset_npz[\"sell_price\"]\n",
    "date_list = dataset_npz[\"date_list\"]\n",
    "total_length,stocks_num,features "
   ]
  },
  {
   "cell_type": "code",
   "execution_count": 8,
   "id": "00b6c471",
   "metadata": {},
   "outputs": [
    {
     "data": {
      "text/plain": [
       "((206079, 140, 3, 43), (206079, 140, 3), (206079, 140, 3))"
      ]
     },
     "execution_count": 8,
     "metadata": {},
     "output_type": "execute_result"
    }
   ],
   "source": [
    "input_data = np.lib.stride_tricks.sliding_window_view(x = input_data,\n",
    "                    window_shape = (sequence_length,stocks_num,features),)\n",
    "input_data = input_data.reshape(-1,sequence_length,stocks_num,features)\n",
    "buy_price = np.lib.stride_tricks.sliding_window_view(x = buy_price,\n",
    "                    window_shape = (sequence_length,stocks_num),)\n",
    "buy_price = buy_price.reshape(-1,sequence_length,stocks_num)\n",
    "\n",
    "sell_price = np.lib.stride_tricks.sliding_window_view(x = sell_price,\n",
    "                    window_shape = (sequence_length,stocks_num),)\n",
    "sell_price = sell_price.reshape(-1,sequence_length,stocks_num)\n",
    "\n",
    "''' ONLY USE this 3 lines when your data is too large ''' \n",
    "input_data = input_data[::stride,:,:,:]\n",
    "buy_price = buy_price[::stride,:,:]\n",
    "sell_price = sell_price[::stride,:,:]\n",
    "\n",
    "input_data.shape, buy_price.shape, sell_price.shape"
   ]
  },
  {
   "cell_type": "code",
   "execution_count": 12,
   "id": "818a924f-f226-4aca-9028-8b15c40539d9",
   "metadata": {},
   "outputs": [],
   "source": [
    "np.savez(\"../data/coin_data_drpo.npz\",input_data = input_data,date_list = date_list,\n",
    "    buy_price=buy_price, sell_price=sell_price)"
   ]
  },
  {
   "cell_type": "code",
   "execution_count": 6,
   "id": "ecbb6f8e",
   "metadata": {},
   "outputs": [
    {
     "data": {
      "text/plain": [
       "30.0"
      ]
     },
     "execution_count": 6,
     "metadata": {},
     "output_type": "execute_result"
    }
   ],
   "source": [
    "1470 / 49"
   ]
  },
  {
   "cell_type": "code",
   "execution_count": 3,
   "id": "7be6831a-5d4f-41df-a36f-0199b25d582f",
   "metadata": {},
   "outputs": [],
   "source": []
  }
 ],
 "metadata": {
  "kernelspec": {
   "display_name": "pdp",
   "language": "python",
   "name": "python3"
  },
  "language_info": {
   "codemirror_mode": {
    "name": "ipython",
    "version": 3
   },
   "file_extension": ".py",
   "mimetype": "text/x-python",
   "name": "python",
   "nbconvert_exporter": "python",
   "pygments_lexer": "ipython3",
   "version": "3.11.13"
  }
 },
 "nbformat": 4,
 "nbformat_minor": 5
}
